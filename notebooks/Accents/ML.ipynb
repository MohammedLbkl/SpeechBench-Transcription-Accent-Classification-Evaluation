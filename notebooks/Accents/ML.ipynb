{
 "cells": [
  {
   "cell_type": "code",
   "execution_count": 1,
   "id": "821ff14e",
   "metadata": {},
   "outputs": [],
   "source": [
    "import os\n",
    "os.chdir(\"../../\")"
   ]
  },
  {
   "cell_type": "code",
   "execution_count": 23,
   "id": "c91a38d8",
   "metadata": {},
   "outputs": [],
   "source": [
    "import pandas as pd\n",
    "import numpy as np\n",
    "import warnings\n",
    "warnings.filterwarnings(\"ignore\")\n",
    "import pandas as pd\n",
    "import matplotlib.pyplot as plt\n",
    "\n",
    "from sklearn.linear_model import LogisticRegression\n",
    "from sklearn.ensemble import RandomForestClassifier, AdaBoostClassifier\n",
    "from sklearn.svm import SVC\n",
    "from sklearn.neighbors import KNeighborsClassifier\n",
    "from xgboost import XGBClassifier\n",
    "from sklearn.model_selection import train_test_split\n",
    "from sklearn.preprocessing import LabelEncoder\n",
    "from sklearn.model_selection import RandomizedSearchCV\n",
    "from sklearn.metrics import classification_report, confusion_matrix\n",
    "import numpy as np\n",
    "import joblib\n"
   ]
  },
  {
   "cell_type": "markdown",
   "id": "b1affb0d",
   "metadata": {},
   "source": [
    "### Fonction"
   ]
  },
  {
   "cell_type": "code",
   "execution_count": 3,
   "id": "31123050",
   "metadata": {},
   "outputs": [],
   "source": [
    "def group_accent(accent):\n",
    "    accent = accent.lower()\n",
    "    \n",
    "    if any(x in accent for x in [\"united states\", \"us\", \"california\", \"maine\", \"washington\", \"midwestern\", \"ohio\", \"iowa\"]):\n",
    "        return \"American English\"\n",
    "    elif any(x in accent for x in [\"england\", \"british\", \"yorkshire\", \"sussex\", \"welsh\", \"received pronunciation\"]):\n",
    "        return \"British English\"\n",
    "    elif \"scottish\" in accent:\n",
    "        return \"Scottish English\"\n",
    "    elif \"irish\" in accent or \"northern irish\" in accent:\n",
    "        return \"Irish English\"\n",
    "    elif \"canadian\" in accent or \"quebec\" in accent:\n",
    "        return \"Canadian English\"\n",
    "    elif \"australian\" in accent or \"new zealand\" in accent:\n",
    "        return \"Australian/NZ English\"\n",
    "    elif any(x in accent for x in [\"india\", \"indian\", \"sri lanka\", \"pakistan\", \"bangladeshi\", \"tamil\", \"nepali\"]):\n",
    "        return \"South Asian English\"\n",
    "    elif any(x in accent for x in [\"nigerian\", \"kenyan\", \"ugandan\", \"rwandan\", \"southern african\"]):\n",
    "        return \"African English\"\n",
    "    elif any(x in accent for x in [\"german\", \"dutch\", \"swedish\", \"russian\", \"croatian\", \"slavic\", \"balkan\", \"european\", \"azerbaijani\"]):\n",
    "        return \"European English\"\n",
    "    elif any(x in accent for x in [\"arabic\", \"egyptian\"]):\n",
    "        return \"Middle Eastern/Arabic English\"\n",
    "    elif any(x in accent for x in [\"filipino\", \"malaysian\", \"thai\", \"bidayuh\", \"hong kong\", \"taiwan\", \"waray\"]):\n",
    "        return \"Southeast Asian English\"\n",
    "    elif \"brazil\" in accent:\n",
    "        return \"Latin American English\"\n",
    "    elif \"mid-atlantic\" in accent or \"awful\" in accent or \"mixed\" in accent:\n",
    "        return \"Other\"\n",
    "    else:\n",
    "        return \"Other\""
   ]
  },
  {
   "cell_type": "code",
   "execution_count": 4,
   "id": "ef1c9bd3",
   "metadata": {},
   "outputs": [],
   "source": [
    "def histograme_occurence(nbr_occurences = 100):\n",
    "    \n",
    "\n",
    "    df = pd.read_csv('data/En/processed/Common Voice.csv')\n",
    "    df = df.dropna(subset=['wav_path', 'accents'])\n",
    "    df[\"accent_group\"] = df[\"accents\"].apply(group_accent)\n",
    "    df = df[df[\"accent_group\"] != \"Other\"]\n",
    "    df.reset_index(drop=True, inplace=True)\n",
    "\n",
    "    accent_counts = df['accent_group'].value_counts()\n",
    "    filtered_counts = accent_counts[accent_counts >= nbr_occurences]\n",
    "\n",
    "    plt.figure(figsize=(10, 6))\n",
    "    filtered_counts.plot(kind='bar', color='mediumseagreen')\n",
    "    plt.title(f'Distribution des accents regroupés')\n",
    "    plt.xlabel('Accent')\n",
    "    plt.ylabel('Nombre d\\'occurrences')\n",
    "    plt.xticks(rotation=45, ha='right')\n",
    "    plt.tight_layout()\n",
    "    plt.grid(axis='y', linestyle='--', alpha=0.7)\n",
    "    plt.show()"
   ]
  },
  {
   "cell_type": "code",
   "execution_count": 5,
   "id": "889bf419",
   "metadata": {},
   "outputs": [],
   "source": [
    "def evaluation_accent(X_train, y_train, X_test, y_test, label_encoder, model=LogisticRegression(solver='lbfgs', max_iter=1000)):\n",
    "\n",
    "\n",
    "    model.fit(X_train, y_train)\n",
    "\n",
    "    y_pred = model.predict(X_test)\n",
    "\n",
    "    print(classification_report(y_test, y_pred, target_names=label_encoder.classes_))\n",
    "    print(confusion_matrix(y_test, y_pred))"
   ]
  },
  {
   "cell_type": "code",
   "execution_count": 20,
   "id": "c9ef660c",
   "metadata": {},
   "outputs": [],
   "source": [
    "def evaluation_accent_random_search(X_train, y_train, X_test, y_test, label_encoder, model, param_grid):\n",
    "    random_search = RandomizedSearchCV(\n",
    "        model,\n",
    "        param_distributions=param_grid,\n",
    "        n_iter=20,                \n",
    "        scoring='f1_weighted',    \n",
    "        cv=3,                     \n",
    "        verbose=1,\n",
    "        n_jobs=-1,                \n",
    "        random_state=42\n",
    "    )\n",
    "\n",
    "    random_search.fit(X_train, y_train)\n",
    "\n",
    "    print(\"Meilleurs paramètres trouvés :\", random_search.best_params_)\n",
    "\n",
    "    best_model = random_search.best_estimator_\n",
    "    y_pred = best_model.predict(X_test)\n",
    "\n",
    "    print(classification_report(y_test, y_pred, target_names=label_encoder.classes_))\n",
    "    print(confusion_matrix(y_test, y_pred))\n",
    "    \n",
    "    return random_search"
   ]
  },
  {
   "cell_type": "markdown",
   "metadata": {},
   "source": [
    "# Prétraitement"
   ]
  },
  {
   "cell_type": "code",
   "execution_count": 7,
   "id": "891b2ee3",
   "metadata": {},
   "outputs": [],
   "source": [
    "OCCURENCES = 1"
   ]
  },
  {
   "cell_type": "code",
   "execution_count": 8,
   "id": "70c7a955",
   "metadata": {},
   "outputs": [
    {
     "data": {
      "image/png": "[encoded data removed]",
      "text/plain": [
       "<Figure size 1000x600 with 1 Axes>"
      ]
     },
     "metadata": {},
     "output_type": "display_data"
    }
   ],
   "source": [
    "histograme_occurence(nbr_occurences = OCCURENCES )"
   ]
  },
  {
   "cell_type": "code",
   "execution_count": 9,
   "id": "2012a80d",
   "metadata": {},
   "outputs": [
    {
     "data": {
      "text/html": [
       "<div>\n",
       "<style scoped>\n",
       "    .dataframe tbody tr th:only-of-type {\n",
       "        vertical-align: middle;\n",
       "    }\n",
       "\n",
       "    .dataframe tbody tr th {\n",
       "        vertical-align: top;\n",
       "    }\n",
       "\n",
       "    .dataframe thead th {\n",
       "        text-align: right;\n",
       "    }\n",
       "</style>\n",
       "<table border=\"1\" class=\"dataframe\">\n",
       "  <thead>\n",
       "    <tr style=\"text-align: right;\">\n",
       "      <th></th>\n",
       "      <th>0</th>\n",
       "      <th>1</th>\n",
       "      <th>2</th>\n",
       "      <th>3</th>\n",
       "      <th>4</th>\n",
       "      <th>5</th>\n",
       "      <th>6</th>\n",
       "      <th>7</th>\n",
       "      <th>8</th>\n",
       "      <th>9</th>\n",
       "      <th>...</th>\n",
       "      <th>2391</th>\n",
       "      <th>2392</th>\n",
       "      <th>2393</th>\n",
       "      <th>2394</th>\n",
       "      <th>2395</th>\n",
       "      <th>2396</th>\n",
       "      <th>2397</th>\n",
       "      <th>2398</th>\n",
       "      <th>2399</th>\n",
       "      <th>accent_group</th>\n",
       "    </tr>\n",
       "  </thead>\n",
       "  <tbody>\n",
       "    <tr>\n",
       "      <th>0</th>\n",
       "      <td>-0.519563</td>\n",
       "      <td>-0.192489</td>\n",
       "      <td>-0.250959</td>\n",
       "      <td>-0.360196</td>\n",
       "      <td>-0.444789</td>\n",
       "      <td>-0.740162</td>\n",
       "      <td>-0.740162</td>\n",
       "      <td>-0.740162</td>\n",
       "      <td>-0.740162</td>\n",
       "      <td>-0.740162</td>\n",
       "      <td>...</td>\n",
       "      <td>-0.740162</td>\n",
       "      <td>-0.740162</td>\n",
       "      <td>-0.740162</td>\n",
       "      <td>-0.740162</td>\n",
       "      <td>-0.740162</td>\n",
       "      <td>-0.740162</td>\n",
       "      <td>-0.740162</td>\n",
       "      <td>-0.740162</td>\n",
       "      <td>-0.740162</td>\n",
       "      <td>American English</td>\n",
       "    </tr>\n",
       "    <tr>\n",
       "      <th>1</th>\n",
       "      <td>-0.513154</td>\n",
       "      <td>-0.220268</td>\n",
       "      <td>-0.447714</td>\n",
       "      <td>-0.262794</td>\n",
       "      <td>-0.412808</td>\n",
       "      <td>-0.749071</td>\n",
       "      <td>-0.749248</td>\n",
       "      <td>-0.749248</td>\n",
       "      <td>-0.749248</td>\n",
       "      <td>-0.749248</td>\n",
       "      <td>...</td>\n",
       "      <td>-0.749248</td>\n",
       "      <td>-0.749248</td>\n",
       "      <td>-0.749248</td>\n",
       "      <td>-0.749248</td>\n",
       "      <td>-0.749248</td>\n",
       "      <td>-0.749248</td>\n",
       "      <td>-0.749248</td>\n",
       "      <td>-0.749248</td>\n",
       "      <td>-0.749248</td>\n",
       "      <td>American English</td>\n",
       "    </tr>\n",
       "    <tr>\n",
       "      <th>2</th>\n",
       "      <td>-0.601487</td>\n",
       "      <td>-0.183391</td>\n",
       "      <td>-0.356759</td>\n",
       "      <td>-0.350651</td>\n",
       "      <td>-0.453565</td>\n",
       "      <td>-0.717125</td>\n",
       "      <td>-0.718132</td>\n",
       "      <td>-0.718132</td>\n",
       "      <td>-0.718132</td>\n",
       "      <td>-0.718132</td>\n",
       "      <td>...</td>\n",
       "      <td>-0.718132</td>\n",
       "      <td>-0.718132</td>\n",
       "      <td>-0.718132</td>\n",
       "      <td>-0.718132</td>\n",
       "      <td>-0.718132</td>\n",
       "      <td>-0.718132</td>\n",
       "      <td>-0.718132</td>\n",
       "      <td>-0.718132</td>\n",
       "      <td>-0.718132</td>\n",
       "      <td>American English</td>\n",
       "    </tr>\n",
       "    <tr>\n",
       "      <th>3</th>\n",
       "      <td>-0.808931</td>\n",
       "      <td>-0.359229</td>\n",
       "      <td>-0.361124</td>\n",
       "      <td>-0.289793</td>\n",
       "      <td>-0.233526</td>\n",
       "      <td>-0.814916</td>\n",
       "      <td>-0.814916</td>\n",
       "      <td>-0.814916</td>\n",
       "      <td>-0.814916</td>\n",
       "      <td>-0.814916</td>\n",
       "      <td>...</td>\n",
       "      <td>-0.814916</td>\n",
       "      <td>-0.814916</td>\n",
       "      <td>-0.814916</td>\n",
       "      <td>-0.814916</td>\n",
       "      <td>-0.814916</td>\n",
       "      <td>-0.814916</td>\n",
       "      <td>-0.814916</td>\n",
       "      <td>-0.814916</td>\n",
       "      <td>-0.814916</td>\n",
       "      <td>American English</td>\n",
       "    </tr>\n",
       "    <tr>\n",
       "      <th>4</th>\n",
       "      <td>-0.531712</td>\n",
       "      <td>-0.316829</td>\n",
       "      <td>-0.330603</td>\n",
       "      <td>-0.467616</td>\n",
       "      <td>-0.188725</td>\n",
       "      <td>-0.618970</td>\n",
       "      <td>-0.726849</td>\n",
       "      <td>-0.726849</td>\n",
       "      <td>-0.726849</td>\n",
       "      <td>-0.726849</td>\n",
       "      <td>...</td>\n",
       "      <td>-0.726849</td>\n",
       "      <td>-0.726849</td>\n",
       "      <td>-0.726849</td>\n",
       "      <td>-0.726849</td>\n",
       "      <td>-0.726849</td>\n",
       "      <td>-0.726849</td>\n",
       "      <td>-0.726849</td>\n",
       "      <td>-0.726849</td>\n",
       "      <td>-0.726849</td>\n",
       "      <td>American English</td>\n",
       "    </tr>\n",
       "  </tbody>\n",
       "</table>\n",
       "<p>5 rows × 2401 columns</p>\n",
       "</div>"
      ],
      "text/plain": [
       "          0         1         2         3         4         5         6  \\\n",
       "0 -0.519563 -0.192489 -0.250959 -0.360196 -0.444789 -0.740162 -0.740162   \n",
       "1 -0.513154 -0.220268 -0.447714 -0.262794 -0.412808 -0.749071 -0.749248   \n",
       "2 -0.601487 -0.183391 -0.356759 -0.350651 -0.453565 -0.717125 -0.718132   \n",
       "3 -0.808931 -0.359229 -0.361124 -0.289793 -0.233526 -0.814916 -0.814916   \n",
       "4 -0.531712 -0.316829 -0.330603 -0.467616 -0.188725 -0.618970 -0.726849   \n",
       "\n",
       "          7         8         9  ...      2391      2392      2393      2394  \\\n",
       "0 -0.740162 -0.740162 -0.740162  ... -0.740162 -0.740162 -0.740162 -0.740162   \n",
       "1 -0.749248 -0.749248 -0.749248  ... -0.749248 -0.749248 -0.749248 -0.749248   \n",
       "2 -0.718132 -0.718132 -0.718132  ... -0.718132 -0.718132 -0.718132 -0.718132   \n",
       "3 -0.814916 -0.814916 -0.814916  ... -0.814916 -0.814916 -0.814916 -0.814916   \n",
       "4 -0.726849 -0.726849 -0.726849  ... -0.726849 -0.726849 -0.726849 -0.726849   \n",
       "\n",
       "       2395      2396      2397      2398      2399      accent_group  \n",
       "0 -0.740162 -0.740162 -0.740162 -0.740162 -0.740162  American English  \n",
       "1 -0.749248 -0.749248 -0.749248 -0.749248 -0.749248  American English  \n",
       "2 -0.718132 -0.718132 -0.718132 -0.718132 -0.718132  American English  \n",
       "3 -0.814916 -0.814916 -0.814916 -0.814916 -0.814916  American English  \n",
       "4 -0.726849 -0.726849 -0.726849 -0.726849 -0.726849  American English  \n",
       "\n",
       "[5 rows x 2401 columns]"
      ]
     },
     "execution_count": 9,
     "metadata": {},
     "output_type": "execute_result"
    }
   ],
   "source": [
    "df = pd.read_csv('data/En/processed/spectrogram_final.csv')\n",
    "df = df.dropna(subset=['wav_path', 'accents'])\n",
    "df[\"accent_group\"] = df[\"accents\"].apply(group_accent)\n",
    "df = df[df[\"accent_group\"] != \"Other\"]\n",
    "df.reset_index(drop=True, inplace=True)\n",
    "df = df.drop(\"wav_path\", axis=1)\n",
    "df = df.drop(\"accents\", axis=1)\n",
    "    \n",
    "\n",
    "\n",
    "df.head(5)"
   ]
  },
  {
   "cell_type": "code",
   "execution_count": 10,
   "id": "2b374399",
   "metadata": {},
   "outputs": [],
   "source": [
    "X = df.drop(\"accent_group\", axis=1)  \n",
    "y = df[\"accent_group\"] \n",
    "\n",
    "label_encoder = LabelEncoder()\n",
    "y = label_encoder.fit_transform(y)\n",
    "\n",
    "X_train, X_test, y_train, y_test = train_test_split(X, y, test_size=0.2, random_state=2)"
   ]
  },
  {
   "cell_type": "code",
   "execution_count": 11,
   "id": "82be69df",
   "metadata": {},
   "outputs": [
    {
     "name": "stdout",
     "output_type": "stream",
     "text": [
      "X_train shape: (11324,)\n",
      "X_test shape: (2832,)\n"
     ]
    }
   ],
   "source": [
    "print(\"X_train shape:\", y_train.shape)\n",
    "print(\"X_test shape:\", y_test.shape)"
   ]
  },
  {
   "cell_type": "code",
   "execution_count": 12,
   "id": "ef2b2fed",
   "metadata": {},
   "outputs": [
    {
     "name": "stdout",
     "output_type": "stream",
     "text": [
      "12\n",
      "12\n",
      "12\n"
     ]
    }
   ],
   "source": [
    "accents1 = sorted(set(y_train))\n",
    "print(len(accents1))\n",
    "\n",
    "accents1 = sorted(set(y_test))\n",
    "print(len(accents1))\n",
    "\n",
    "accents1 = sorted(set(y))\n",
    "print(len(accents1))"
   ]
  },
  {
   "cell_type": "code",
   "execution_count": 13,
   "id": "fabda70f",
   "metadata": {},
   "outputs": [
    {
     "name": "stdout",
     "output_type": "stream",
     "text": [
      "Train:\n",
      "Classe African English : 45 occurrences\n",
      "Classe American English : 3718 occurrences\n",
      "Classe Australian/NZ English : 5 occurrences\n",
      "Classe British English : 406 occurrences\n",
      "Classe Canadian English : 648 occurrences\n",
      "Classe European English : 338 occurrences\n",
      "Classe Irish English : 2162 occurrences\n",
      "Classe Latin American English : 23 occurrences\n",
      "Classe Middle Eastern/Arabic English : 10 occurrences\n",
      "Classe Scottish English : 4356 occurrences\n",
      "Classe South Asian English : 242 occurrences\n",
      "Classe Southeast Asian English : 2203 occurrences\n",
      "Test:\n",
      "Classe African English : 7 occurrences\n",
      "Classe American English : 724 occurrences\n",
      "Classe Australian/NZ English : 1 occurrences\n",
      "Classe British English : 84 occurrences\n",
      "Classe Canadian English : 127 occurrences\n",
      "Classe European English : 61 occurrences\n",
      "Classe Irish English : 447 occurrences\n",
      "Classe Latin American English : 3 occurrences\n",
      "Classe Middle Eastern/Arabic English : 3 occurrences\n",
      "Classe Scottish English : 861 occurrences\n",
      "Classe South Asian English : 49 occurrences\n",
      "Classe Southeast Asian English : 465 occurrences\n"
     ]
    }
   ],
   "source": [
    "valeurs, comptes = np.unique(y, return_counts=True)\n",
    "\n",
    "print(\"Train:\")\n",
    "for label, count in zip(label_encoder.classes_, comptes):\n",
    "    print(f\"Classe {label} : {count} occurrences\")\n",
    "    \n",
    "valeurs, comptes = np.unique(y_test, return_counts=True)\n",
    "\n",
    "print(\"Test:\")\n",
    "for label, count in zip(label_encoder.classes_, comptes):\n",
    "    print(f\"Classe {label} : {count} occurrences\")"
   ]
  },
  {
   "cell_type": "markdown",
   "id": "eb7a7e20",
   "metadata": {},
   "source": [
    "# Evaluation"
   ]
  },
  {
   "cell_type": "code",
   "execution_count": 14,
   "id": "91b81ff3",
   "metadata": {},
   "outputs": [],
   "source": [
    "dict_of_models = {\n",
    "    \"Logistic Regression\": LogisticRegression(max_iter=1000,class_weight='balanced'),\n",
    "    \"Random Forest\": RandomForestClassifier(random_state=42,class_weight='balanced')\n",
    "}\n"
   ]
  },
  {
   "cell_type": "code",
   "execution_count": 17,
   "id": "dd75a66d",
   "metadata": {},
   "outputs": [
    {
     "name": "stdout",
     "output_type": "stream",
     "text": [
      "Logistic Regression model :\n",
      "                               precision    recall  f1-score   support\n",
      "\n",
      "              African English       0.08      0.29      0.12         7\n",
      "             American English       0.92      0.64      0.76       724\n",
      "        Australian/NZ English       0.33      1.00      0.50         1\n",
      "              British English       0.31      0.57      0.40        84\n",
      "             Canadian English       0.90      0.94      0.92       127\n",
      "             European English       0.51      0.89      0.65        61\n",
      "                Irish English       0.96      0.99      0.97       447\n",
      "       Latin American English       0.50      1.00      0.67         3\n",
      "Middle Eastern/Arabic English       0.00      0.00      0.00         3\n",
      "             Scottish English       1.00      0.99      1.00       861\n",
      "          South Asian English       0.23      0.57      0.32        49\n",
      "      Southeast Asian English       0.97      0.95      0.96       465\n",
      "\n",
      "                     accuracy                           0.87      2832\n",
      "                    macro avg       0.56      0.74      0.61      2832\n",
      "                 weighted avg       0.92      0.87      0.88      2832\n",
      "\n",
      "[[  2   2   1   2   0   0   0   0   0   0   0   0]\n",
      " [ 17 463   0  92  11  40  13   3   2   2  74   7]\n",
      " [  0   0   1   0   0   0   0   0   0   0   0   0]\n",
      " [  1  16   0  48   1   7   2   0   0   0   7   2]\n",
      " [  0   0   0   1 120   1   1   0   0   0   3   1]\n",
      " [  3   0   0   0   0  54   0   0   0   0   4   0]\n",
      " [  0   1   0   1   0   1 444   0   0   0   0   0]\n",
      " [  0   0   0   0   0   0   0   3   0   0   0   0]\n",
      " [  0   3   0   0   0   0   0   0   0   0   0   0]\n",
      " [  0   5   0   0   0   0   0   0   0 856   0   0]\n",
      " [  0   5   1   6   1   1   3   0   1   0  28   3]\n",
      " [  2   6   0   5   0   1   1   0   1   0   8 441]]\n",
      "Random Forest model :\n",
      "                               precision    recall  f1-score   support\n",
      "\n",
      "              African English       0.00      0.00      0.00         7\n",
      "             American English       0.73      0.95      0.83       724\n",
      "        Australian/NZ English       0.00      0.00      0.00         1\n",
      "              British English       0.50      0.04      0.07        84\n",
      "             Canadian English       1.00      0.74      0.85       127\n",
      "             European English       0.93      0.41      0.57        61\n",
      "                Irish English       0.94      0.94      0.94       447\n",
      "       Latin American English       0.50      0.33      0.40         3\n",
      "Middle Eastern/Arabic English       0.00      0.00      0.00         3\n",
      "             Scottish English       0.98      0.99      0.99       861\n",
      "          South Asian English       1.00      0.02      0.04        49\n",
      "      Southeast Asian English       0.94      0.91      0.92       465\n",
      "\n",
      "                     accuracy                           0.89      2832\n",
      "                    macro avg       0.63      0.44      0.47      2832\n",
      "                 weighted avg       0.89      0.89      0.87      2832\n",
      "\n",
      "[[  0   7   0   0   0   0   0   0   0   0   0   0]\n",
      " [  0 690   0   2   0   2  11   1   0   9   0   9]\n",
      " [  0   1   0   0   0   0   0   0   0   0   0   0]\n",
      " [  0  70   0   3   0   0   4   0   0   2   0   5]\n",
      " [  0  25   0   0  94   0   6   0   0   0   0   2]\n",
      " [  0  33   0   0   0  25   1   0   0   0   0   2]\n",
      " [  0  22   0   0   0   0 422   0   0   0   0   3]\n",
      " [  0   2   0   0   0   0   0   1   0   0   0   0]\n",
      " [  0   3   0   0   0   0   0   0   0   0   0   0]\n",
      " [  0  10   0   0   0   0   0   0   0 850   0   1]\n",
      " [  0  38   0   1   0   0   4   0   0   0   1   5]\n",
      " [  0  40   0   0   0   0   1   0   0   2   0 422]]\n"
     ]
    }
   ],
   "source": [
    "for name, model in dict_of_models.items():\n",
    "    print(f\"{name} model :\")\n",
    "    evaluation_accent(X_train, y_train, X_test, y_test,label_encoder, model=model)"
   ]
  },
  {
   "cell_type": "markdown",
   "id": "8b51846e",
   "metadata": {},
   "source": [
    "# Optimisation des hyperparamètres"
   ]
  },
  {
   "cell_type": "code",
   "execution_count": 30,
   "id": "b2e11186",
   "metadata": {},
   "outputs": [
    {
     "name": "stdout",
     "output_type": "stream",
     "text": [
      "Logistic Regression :\n",
      "Fitting 3 folds for each of 10 candidates, totalling 30 fits\n",
      "Meilleurs paramètres trouvés : {'penalty': 'l2', 'max_iter': 1000, 'C': np.float64(215.44346900318823)}\n",
      "                               precision    recall  f1-score   support\n",
      "\n",
      "              African English       0.07      0.14      0.09         7\n",
      "             American English       0.90      0.66      0.76       724\n",
      "        Australian/NZ English       1.00      1.00      1.00         1\n",
      "              British English       0.29      0.54      0.38        84\n",
      "             Canadian English       0.82      0.91      0.86       127\n",
      "             European English       0.62      0.89      0.73        61\n",
      "                Irish English       0.95      0.99      0.97       447\n",
      "       Latin American English       0.60      1.00      0.75         3\n",
      "Middle Eastern/Arabic English       0.00      0.00      0.00         3\n",
      "             Scottish English       1.00      1.00      1.00       861\n",
      "          South Asian English       0.24      0.53      0.33        49\n",
      "      Southeast Asian English       0.96      0.95      0.95       465\n",
      "\n",
      "                     accuracy                           0.87      2832\n",
      "                    macro avg       0.62      0.72      0.65      2832\n",
      "                 weighted avg       0.90      0.87      0.88      2832\n",
      "\n",
      "[[  1   3   0   3   0   0   0   0   0   0   0   0]\n",
      " [ 12 478   0  93  20  21  21   2   1   4  60  12]\n",
      " [  0   0   1   0   0   0   0   0   0   0   0   0]\n",
      " [  0  20   0  45   2   6   2   0   0   0   8   1]\n",
      " [  0   1   0   3 115   1   0   0   0   0   4   3]\n",
      " [  2   2   0   1   0  54   0   0   0   0   2   0]\n",
      " [  0   3   0   1   0   2 441   0   0   0   0   0]\n",
      " [  0   0   0   0   0   0   0   3   0   0   0   0]\n",
      " [  0   3   0   0   0   0   0   0   0   0   0   0]\n",
      " [  0   4   0   0   0   0   0   0   0 857   0   0]\n",
      " [  0  10   0   5   2   1   1   0   1   0  26   3]\n",
      " [  0   9   0   4   1   2   0   0   0   0   9 440]]\n",
      "Random Forest :\n",
      "Fitting 3 folds for each of 20 candidates, totalling 60 fits\n",
      "Meilleurs paramètres trouvés : {'n_estimators': 100, 'min_samples_split': 10, 'min_samples_leaf': 1, 'max_depth': 30}\n",
      "                               precision    recall  f1-score   support\n",
      "\n",
      "              African English       0.00      0.00      0.00         7\n",
      "             American English       0.75      0.92      0.83       724\n",
      "        Australian/NZ English       0.00      0.00      0.00         1\n",
      "              British English       0.59      0.12      0.20        84\n",
      "             Canadian English       0.97      0.82      0.89       127\n",
      "             European English       0.89      0.56      0.69        61\n",
      "                Irish English       0.92      0.95      0.93       447\n",
      "       Latin American English       0.67      0.67      0.67         3\n",
      "Middle Eastern/Arabic English       0.00      0.00      0.00         3\n",
      "             Scottish English       0.98      0.98      0.98       861\n",
      "          South Asian English       0.29      0.04      0.07        49\n",
      "      Southeast Asian English       0.94      0.91      0.92       465\n",
      "\n",
      "                     accuracy                           0.89      2832\n",
      "                    macro avg       0.58      0.50      0.52      2832\n",
      "                 weighted avg       0.88      0.89      0.87      2832\n",
      "\n",
      "[[  0   6   0   0   0   0   0   0   0   0   0   1]\n",
      " [  0 668   0   2   2   4  24   1   0  10   4   9]\n",
      " [  0   1   0   0   0   0   0   0   0   0   0   0]\n",
      " [  0  63   0  10   1   0   3   0   0   2   1   4]\n",
      " [  0  17   0   0 104   0   4   0   0   0   0   2]\n",
      " [  0  23   0   0   0  34   2   0   0   0   0   2]\n",
      " [  0  21   0   0   0   0 423   0   0   0   0   3]\n",
      " [  0   1   0   0   0   0   0   2   0   0   0   0]\n",
      " [  0   3   0   0   0   0   0   0   0   0   0   0]\n",
      " [  0  10   0   0   0   0   0   0   0 848   0   3]\n",
      " [  0  35   0   4   0   0   4   0   0   0   2   4]\n",
      " [  0  39   0   1   0   0   0   0   0   1   0 424]]\n"
     ]
    }
   ],
   "source": [
    "param_distributions = {\n",
    "    \"Logistic Regression\": {\n",
    "        \"C\": np.logspace(-3, 3, 10),           \n",
    "        \"penalty\": [\"l2\"],    \n",
    "        \"max_iter\": [1000]\n",
    "    },\n",
    "    \"Random Forest\": {\n",
    "        \"n_estimators\": [50, 100, 200, 500],\n",
    "        \"max_depth\": [None, 10, 20, 30],\n",
    "        \"min_samples_split\": [2, 5, 10],\n",
    "        \"min_samples_leaf\": [1, 2, 4]\n",
    "    }\n",
    "}\n",
    "\n",
    "\n",
    "for name, model in dict_of_models.items():\n",
    "    print(f\"{name} :\")\n",
    "    search = evaluation_accent_random_search(\n",
    "        X_train, y_train, X_test, y_test,\n",
    "        label_encoder,\n",
    "        model=model,\n",
    "        param_grid=param_distributions[name]\n",
    "    )\n",
    "    \n",
    "    # Enregistrement\n",
    "    best_model = search.best_estimator_\n",
    "    joblib.dump(best_model, f\"notebooks/Accents/model/{name}.pkl\")\n"
   ]
  },
  {
   "cell_type": "markdown",
   "id": "152052cb",
   "metadata": {},
   "source": [
    "# Enregistrement et Réutilisation des modèles"
   ]
  },
  {
   "cell_type": "code",
   "execution_count": 31,
   "id": "fbbc0914",
   "metadata": {},
   "outputs": [
    {
     "data": {
      "text/plain": [
       "['notebooks/Accents/model/label_encoder.pkl']"
      ]
     },
     "execution_count": 31,
     "metadata": {},
     "output_type": "execute_result"
    }
   ],
   "source": [
    "import joblib\n",
    "\n",
    "joblib.dump(label_encoder, \"notebooks/Accents/model/label_encoder.pkl\")"
   ]
  },
  {
   "cell_type": "code",
   "execution_count": 55,
   "id": "585e6e75",
   "metadata": {},
   "outputs": [
    {
     "data": {
      "text/html": [
       "<div>\n",
       "<style scoped>\n",
       "    .dataframe tbody tr th:only-of-type {\n",
       "        vertical-align: middle;\n",
       "    }\n",
       "\n",
       "    .dataframe tbody tr th {\n",
       "        vertical-align: top;\n",
       "    }\n",
       "\n",
       "    .dataframe thead th {\n",
       "        text-align: right;\n",
       "    }\n",
       "</style>\n",
       "<table border=\"1\" class=\"dataframe\">\n",
       "  <thead>\n",
       "    <tr style=\"text-align: right;\">\n",
       "      <th></th>\n",
       "      <th>wav_path</th>\n",
       "      <th>accent_group</th>\n",
       "    </tr>\n",
       "  </thead>\n",
       "  <tbody>\n",
       "    <tr>\n",
       "      <th>0</th>\n",
       "      <td>common_voice_en_40865211.wav</td>\n",
       "      <td>American English</td>\n",
       "    </tr>\n",
       "    <tr>\n",
       "      <th>1</th>\n",
       "      <td>common_voice_en_40865212.wav</td>\n",
       "      <td>American English</td>\n",
       "    </tr>\n",
       "    <tr>\n",
       "      <th>2</th>\n",
       "      <td>common_voice_en_40865213.wav</td>\n",
       "      <td>American English</td>\n",
       "    </tr>\n",
       "    <tr>\n",
       "      <th>3</th>\n",
       "      <td>common_voice_en_40865214.wav</td>\n",
       "      <td>American English</td>\n",
       "    </tr>\n",
       "    <tr>\n",
       "      <th>4</th>\n",
       "      <td>common_voice_en_40865215.wav</td>\n",
       "      <td>American English</td>\n",
       "    </tr>\n",
       "  </tbody>\n",
       "</table>\n",
       "</div>"
      ],
      "text/plain": [
       "                       wav_path      accent_group\n",
       "0  common_voice_en_40865211.wav  American English\n",
       "1  common_voice_en_40865212.wav  American English\n",
       "2  common_voice_en_40865213.wav  American English\n",
       "3  common_voice_en_40865214.wav  American English\n",
       "4  common_voice_en_40865215.wav  American English"
      ]
     },
     "execution_count": 55,
     "metadata": {},
     "output_type": "execute_result"
    }
   ],
   "source": [
    "import whisper\n",
    "import pandas as pd\n",
    "import numpy as np\n",
    "import torch.nn as nn\n",
    "\n",
    "\n",
    "\n",
    "metadata = pd.read_csv('data/En/processed/Common Voice.csv')\n",
    "metadata = metadata.dropna(subset=['wav_path', 'accents'])\n",
    "metadata[\"accent_group\"] = metadata[\"accents\"].apply(group_accent)\n",
    "metadata = metadata[metadata[\"accent_group\"] != \"Other\"]\n",
    "metadata.reset_index(drop=True, inplace=True)\n",
    "metadata = metadata.drop(\"accents\", axis=1)\n",
    "metadata = metadata[[\"wav_path\", \"accent_group\"]]\n",
    "    \n",
    "\n",
    "\n",
    "metadata.head(5)"
   ]
  },
  {
   "cell_type": "code",
   "execution_count": 56,
   "id": "cd5f826d",
   "metadata": {},
   "outputs": [],
   "source": [
    "def pred_accent(file_path, model):\n",
    "    \n",
    "    model_encode = whisper.load_model(\"tiny\")\n",
    "    \n",
    "    kernel_size=100\n",
    "    stride=100\n",
    "\n",
    "    l=[]\n",
    "    audio = whisper.load_audio(file_path)\n",
    "    audio = whisper.pad_or_trim(audio)\n",
    "    mel = whisper.log_mel_spectrogram(audio, n_mels=model_encode.dims.n_mels).to(model_encode.device)\n",
    "    pool = nn.AvgPool1d(kernel_size=kernel_size, stride=stride)\n",
    "    mel_pooled = pool(mel).squeeze(1)\n",
    "    mel_numpy = mel_pooled.cpu().numpy()\n",
    "    flat_array = mel_numpy.flatten()\n",
    "    l.append(flat_array)\n",
    "\n",
    "    row = np.random.rand((mel.shape[0]*mel.shape[1])//kernel_size)\n",
    "    df = pd.DataFrame([row])\n",
    "    df = df.drop(0)\n",
    "\n",
    "    new_row = pd.DataFrame(l)\n",
    "    df = pd.concat([df, new_row], ignore_index=True)\n",
    "    df\n",
    "\n",
    "    y_pred = model.predict(df)\n",
    "    y_pred_proba = model.predict_proba(df)\n",
    "    y_pred_labels = label_encoder.inverse_transform(y_pred)\n",
    "    return y_pred_labels[0] ,np.max(y_pred_proba),y_pred_proba"
   ]
  },
  {
   "cell_type": "code",
   "execution_count": 57,
   "id": "676bdecc",
   "metadata": {},
   "outputs": [],
   "source": [
    "modele_charge_lr = joblib.load('notebooks/Accents/model/Logistic Regression.pkl')"
   ]
  },
  {
   "cell_type": "code",
   "execution_count": 58,
   "id": "e8ec99c5",
   "metadata": {},
   "outputs": [
    {
     "data": {
      "text/plain": [
       "('British English',\n",
       " np.float64(0.8560165214414234),\n",
       " array([[3.10396917e-07, 8.03281740e-02, 3.63691000e-12, 8.56016521e-01,\n",
       "         1.16122556e-03, 1.85731804e-05, 1.45765061e-04, 1.46340240e-20,\n",
       "         4.44880601e-12, 1.18874422e-09, 6.07516223e-02, 1.57780688e-03]]))"
      ]
     },
     "execution_count": 58,
     "metadata": {},
     "output_type": "execute_result"
    }
   ],
   "source": [
    "pred_accent(file_path = f'clips_en.wav/{metadata[\"wav_path\"].iloc[5]}' , model=modele_charge_lr)"
   ]
  },
  {
   "cell_type": "code",
   "execution_count": 59,
   "id": "b6b77076",
   "metadata": {},
   "outputs": [],
   "source": [
    "modele_charge_rf = joblib.load('notebooks/Accents/model/Random Forest.pkl')"
   ]
  },
  {
   "cell_type": "code",
   "execution_count": 60,
   "id": "af4fba91",
   "metadata": {},
   "outputs": [
    {
     "data": {
      "text/plain": [
       "('American English',\n",
       " np.float64(0.432927729106662),\n",
       " array([[0.        , 0.43292773, 0.        , 0.12799636, 0.04304453,\n",
       "         0.09375391, 0.15753211, 0.        , 0.        , 0.02996282,\n",
       "         0.05420167, 0.06058087]]))"
      ]
     },
     "execution_count": 60,
     "metadata": {},
     "output_type": "execute_result"
    }
   ],
   "source": [
    "pred_accent(file_path = f'clips_en.wav/{metadata[\"wav_path\"].iloc[5]}' , model=modele_charge_rf)"
   ]
  }
 ],
 "metadata": {
  "kernelspec": {
   "display_name": ".venv",
   "language": "python",
   "name": "python3"
  },
  "language_info": {
   "codemirror_mode": {
    "name": "ipython",
    "version": 3
   },
   "file_extension": ".py",
   "mimetype": "text/x-python",
   "name": "python",
   "nbconvert_exporter": "python",
   "pygments_lexer": "ipython3",
   "version": "3.11.9"
  }
 },
 "nbformat": 4,
 "nbformat_minor": 5
}
